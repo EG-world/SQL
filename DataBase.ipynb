{
  "nbformat": 4,
  "nbformat_minor": 0,
  "metadata": {
    "colab": {
      "provenance": [],
      "authorship_tag": "ABX9TyOcrmnHb9bCk4jrOVDWTYmE",
      "include_colab_link": true
    },
    "kernelspec": {
      "name": "python3",
      "display_name": "Python 3"
    },
    "language_info": {
      "name": "python"
    }
  },
  "cells": [
    {
      "cell_type": "markdown",
      "metadata": {
        "id": "view-in-github",
        "colab_type": "text"
      },
      "source": [
        "<a href=\"https://colab.research.google.com/github/EG-world/SQL/blob/main/DataBase.ipynb\" target=\"_parent\"><img src=\"https://colab.research.google.com/assets/colab-badge.svg\" alt=\"Open In Colab\"/></a>"
      ]
    },
    {
      "cell_type": "markdown",
      "source": [
        "### 1. 데이터 (Data)\n",
        "- 데이터는 정보를 나타내는 숫자, 문자, 기호의 집합\n",
        "- 컴퓨터 또는 디지털 장치에서 처리하고 저장할 수 있는 형태\n"
      ],
      "metadata": {
        "id": "BpF9NWS5iVp6"
      }
    },
    {
      "cell_type": "markdown",
      "source": [
        "### 2. 데이터베이스 (Data Base)\n",
        "- 체계적으로 구성된 데이터의 집합이며, 특정 목적을 위해 조직화되고 관리 (저장소)\n",
        "- 정보를 효율적으로 저장, 검색, 업데이트, 관리할 수 있는 기술적인 도구와 구조를 제공\n",
        "- 데이터베이스 관리 시스템(Data Base Management System) : DB를 관리 할 수 있는 기술적인 소프트웨어\n",
        "- Oracle, mangoDB, MSSQL, MySQL, ...\n",
        "- https://db-engines.com/en/ranking  (자주 사용하는 SQL tool 순위)"
      ],
      "metadata": {
        "id": "fehJfehtjJ-D"
      }
    },
    {
      "cell_type": "markdown",
      "source": [
        "### 3. 관계형 데이터베이스시스템(Relational DBMS)\n",
        "- 데이터를 테이블(표) 형식으로 관리하고, 각 테이블 간의 관계를 설정하여 데이터를 효율적으로 저장, 검색하는\n",
        "데이터 베이스 관리 시스템의 한 종류\n",
        "- SQL(Structured Query Language) : 관계형 데이터베이스에서 데이터를 정의하고 조작하기 위한 언어\n"
      ],
      "metadata": {
        "id": "oL1XkR3SkYr5"
      }
    },
    {
      "cell_type": "markdown",
      "source": [
        "# **4. SQL**\n",
        "- 대소문자를 구별하지 않음\n",
        "- 문자열을 저장할 때 ' '(작은 따옴표)만 사용\n",
        "- 주석문 : #, --, /* */\n",
        "\n",
        "```\n",
        "in MySQL\n",
        "\n",
        "* 데이터 베이스 확인하기\n",
        "show databases;\n",
        "\n",
        "* 데이터베이스 만들기\n",
        "create database kdt;  -> 만들어지는 위치는 랜덤 (순서가 없음)\n",
        "\n",
        "* 테이블 만드는 기본 형태\n",
        "create table 테이블명(필드명1 데이터타입 제약조건, 필드명2 데이터타입 제약조건, ...)\n",
        "```"
      ],
      "metadata": {
        "id": "td3D0Xt1mjJG"
      }
    },
    {
      "cell_type": "markdown",
      "source": [
        "### 4-1. SQL의 데이터 타입\n",
        "1. 숫자형\n",
        "- 정수형 : TINYINT, SMALLINT, MEDIUMINT, INT, BIGINT\n",
        "- 실수형 : FLOAT, DOUBLE, DECIMAL\n",
        "\n",
        "2. 문자형\n",
        "- CHAR, VARCHAR, BINARY, VARBINARY, TEXT\n",
        "\n",
        "(VARCHAR, VARBINARY를 많이 사용하는 이유 : 데이터 실제 길이에 맞는 공간을 사용하므로 메모리를 효율적으로 사용가능)\n",
        "\n",
        "(CHAR는 문자 BINARY는 0과1로 이루어진 이진데이터(동영상, 사진, 사운드 등))\n",
        "\n",
        "3. 날짜형\n",
        "DATE, TIME, DATETIME, TIMESTAMP, YEAR\n",
        "\n",
        "(굳이 날짜형이 있는 이유는 날짜, 시간을 계산하기 위해.)\n",
        "\n",
        "(TIMESTAMP는 시간의 차이를 계산하고자 할 때 사용.)"
      ],
      "metadata": {
        "id": "A7oB-I0unyZo"
      }
    },
    {
      "cell_type": "markdown",
      "source": [
        "### 4-2. 제약조건 (MySQL기준)\n",
        "- 데이터의 무결성을 지키기 위해 데이터를 입력받을 때 실행되는 검사 규칙\n",
        "(무결성 : 결합이 없어야한다)\n",
        "- not null: null값을 허용하지 않음\n",
        "- unique : 중복값을 허용하지 않음 (null값은 허용)\n",
        "- default : null값을 삽입할 때 기본이 되는 값을 설정함\n",
        "- Primary Key : null값, 중복값을 허용하지 않음, 인덱싱을 설정. (테이블에 단 하나만 설정 가능)"
      ],
      "metadata": {
        "id": "TYgDU2xZsCqY"
      }
    },
    {
      "cell_type": "markdown",
      "source": [
        "# 테이블 만들기 (Create)\n",
        "\n",
        "```\n",
        "create 테이블명 (\n",
        "  속성명1 데이터타입 제약조건,\n",
        "  속성명2 데이터타입 제약조건,\n",
        "  속성명3 데이터타입 제약조건,\n",
        "  ...\n",
        ");\n",
        "```\n",
        "\n",
        "```\n",
        "create words(\n",
        "  eng varchar(50) primary key,\n",
        "    kor varchar(50) not null,\n",
        "    lev int default 1\n",
        ");\n",
        "```"
      ],
      "metadata": {
        "id": "SRheYtoexPwN"
      }
    },
    {
      "cell_type": "markdown",
      "source": [
        "# 데이터 삽입 (Insert)\n",
        "\n",
        "```\n",
        "1. insert into 테이블명\n",
        "   values (값1, 값2, 값3, ...)\n",
        "\n",
        "2. insert into 테이블명 (속성값1, 속성값2, ...)\n",
        "   values (값1, 값2, 값3, ...)\n",
        "```\n",
        "\n",
        "```\n",
        "insert into words\n",
        "values ('banana', '바나나', null);\n",
        "\n",
        "insert into words (eng, kor, lev)\n",
        "values ('orange', '오렌지', 1);\n",
        "```"
      ],
      "metadata": {
        "id": "QMF89k6JIvMZ"
      }
    },
    {
      "cell_type": "markdown",
      "source": [
        "# 데이터 수정 (Update)\n",
        "\n",
        "```\n",
        "1. update 테이블명 set 필드명1 = 값1, 필드명2 = 값2, ...\n",
        "2. update 테이블명 set 필드명1 = 값1, 필드명2 = 값2, ... where 조건\n",
        "\n",
        "일시적인 safe모드 해제\n",
        "- set sql_safe_updates = 0;\n",
        "    \n",
        "영구적인 safe모드 해제\n",
        "- Edit -> Preferences -> SQL Editor -> safe updates ~ 체크해제 -> Workbench를 재시작\n",
        "```\n",
        "\n",
        "```\n",
        "update words set lev=1;\n",
        "\n",
        "update words set kor='오륀지' where eng='orange';\n",
        "```"
      ],
      "metadata": {
        "id": "LoWaVommJxXy"
      }
    },
    {
      "cell_type": "markdown",
      "source": [
        "# 데이터 삭제\n",
        "\n",
        "```\n",
        "1. delete from 테이블명\n",
        "2. delete from 테이블면 where 조건\n",
        "```\n",
        "\n",
        "```\n",
        "delete from words where eng='orange';\n",
        "delete from words;\n",
        "```"
      ],
      "metadata": {
        "id": "gHyzhDLBKmEa"
      }
    },
    {
      "cell_type": "markdown",
      "source": [
        "# 검색하기\n",
        "```\n",
        "select\n",
        "select 필드명1, 필드명2, ... from 테이블\n",
        "select 필드명1, 필드명2, ... from 테이블 where 조건\n",
        "select 필드명1, 필드명2, ... from 테이블 [where 조건] order by 필드명 [asc, desc]\t# []는 생략가능\n",
        "select 필드명1, 필드명2, ... from 테이블 [where 조건] [order by 필드명 [asc, desc]] limit [숫자], 숫자\n",
        "```"
      ],
      "metadata": {
        "id": "LXC2MaQ7vfjR"
      }
    },
    {
      "cell_type": "code",
      "source": [],
      "metadata": {
        "id": "LBuvb4Y-yxC0"
      },
      "execution_count": null,
      "outputs": []
    }
  ]
}