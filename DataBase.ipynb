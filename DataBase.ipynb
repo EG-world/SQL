{
  "nbformat": 4,
  "nbformat_minor": 0,
  "metadata": {
    "colab": {
      "provenance": [],
      "authorship_tag": "ABX9TyP0dykUfQisoIRMhx4EF0Df",
      "include_colab_link": true
    },
    "kernelspec": {
      "name": "python3",
      "display_name": "Python 3"
    },
    "language_info": {
      "name": "python"
    }
  },
  "cells": [
    {
      "cell_type": "markdown",
      "metadata": {
        "id": "view-in-github",
        "colab_type": "text"
      },
      "source": [
        "<a href=\"https://colab.research.google.com/github/EG-world/SQL/blob/main/DataBase.ipynb\" target=\"_parent\"><img src=\"https://colab.research.google.com/assets/colab-badge.svg\" alt=\"Open In Colab\"/></a>"
      ]
    },
    {
      "cell_type": "markdown",
      "source": [
        "### 1. 데이터 (Data)\n",
        "- 데이터는 정보를 나타내는 숫자, 문자, 기호의 집합\n",
        "- 컴퓨터 또는 디지털 장치에서 처리하고 저장할 수 있는 형태\n"
      ],
      "metadata": {
        "id": "BpF9NWS5iVp6"
      }
    },
    {
      "cell_type": "markdown",
      "source": [
        "### 2. 데이터베이스 (Data Base)\n",
        "- 체계적으로 구성된 데이터의 집합이며, 특정 목적을 위해 조직화되고 관리 (저장소)\n",
        "- 정보를 효율적으로 저장, 검색, 업데이트, 관리할 수 있는 기술적인 도구와 구조를 제공\n",
        "- 데이터베이스 관리 시스템(Data Base Management System) : DB를 관리 할 수 있는 기술적인 소프트웨어\n",
        "- Oracle, mangoDB, MSSQL, MySQL, ...\n",
        "- https://db-engines.com/en/ranking  (자주 사용하는 SQL tool 순위)"
      ],
      "metadata": {
        "id": "fehJfehtjJ-D"
      }
    },
    {
      "cell_type": "markdown",
      "source": [
        "### 3. 관계형 데이터베이스시스템(Relational DBMS)\n",
        "- 데이터를 테이블(표) 형식으로 관리하고, 각 테이블 간의 관계를 설정하여 데이터를 효율적으로 저장, 검색하는\n",
        "데이터 베이스 관리 시스템의 한 종류\n",
        "- SQL(Structured Query Language) : 관계형 데이터베이스에서 데이터를 정의하고 조작하기 위한 언어\n"
      ],
      "metadata": {
        "id": "oL1XkR3SkYr5"
      }
    },
    {
      "cell_type": "markdown",
      "source": [
        "# **4. SQL**\n",
        "- 대소문자를 구별하지 않음\n",
        "- 문자열을 저장할 때 ' '(작은 따옴표)만 사용\n",
        "- 주석문 : #, --, /* */\n",
        "\n",
        "```\n",
        "in MySQL\n",
        "\n",
        "* 데이터 베이스 확인하기\n",
        "show databases;\n",
        "\n",
        "* 데이터베이스 만들기\n",
        "create database kdt;  -> 만들어지는 위치는 랜덤 (순서가 없음)\n",
        "\n",
        "* 테이블 만드는 기본 형태\n",
        "create table 테이블명(필드명1 데이터타입 제약조건, 필드명2 데이터타입 제약조건, ...)\n",
        "```"
      ],
      "metadata": {
        "id": "td3D0Xt1mjJG"
      }
    },
    {
      "cell_type": "markdown",
      "source": [
        "### 4-1. SQL의 데이터 타입\n",
        "1. 숫자형\n",
        "- 정수형 : TINYINT, SMALLINT, MEDIUMINT, INT, BIGINT\n",
        "- 실수형 : FLOAT, DOUBLE, DECIMAL\n",
        "\n",
        "2. 문자형\n",
        "- CHAR, VARCHAR, BINARY, VARBINARY, TEXT\n",
        "\n",
        "(VARCHAR, VARBINARY를 많이 사용하는 이유 : 데이터 실제 길이에 맞는 공간을 사용하므로 메모리를 효율적으로 사용가능)\n",
        "\n",
        "(CHAR는 문자 BINARY는 0과1로 이루어진 이진데이터(동영상, 사진, 사운드 등))"
      ],
      "metadata": {
        "id": "A7oB-I0unyZo"
      }
    },
    {
      "cell_type": "code",
      "source": [],
      "metadata": {
        "id": "TYgDU2xZsCqY"
      },
      "execution_count": null,
      "outputs": []
    }
  ]
}