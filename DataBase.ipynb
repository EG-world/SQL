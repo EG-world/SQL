{
  "nbformat": 4,
  "nbformat_minor": 0,
  "metadata": {
    "colab": {
      "provenance": [],
      "authorship_tag": "ABX9TyMZaljT+VYQuyUT8WW4la6g",
      "include_colab_link": true
    },
    "kernelspec": {
      "name": "python3",
      "display_name": "Python 3"
    },
    "language_info": {
      "name": "python"
    }
  },
  "cells": [
    {
      "cell_type": "markdown",
      "metadata": {
        "id": "view-in-github",
        "colab_type": "text"
      },
      "source": [
        "<a href=\"https://colab.research.google.com/github/EG-world/SQL/blob/main/DataBase.ipynb\" target=\"_parent\"><img src=\"https://colab.research.google.com/assets/colab-badge.svg\" alt=\"Open In Colab\"/></a>"
      ]
    },
    {
      "cell_type": "markdown",
      "source": [
        "### 1. 데이터 (Data)\n",
        "- 데이터는 정보를 나타내는 숫자, 문자, 기호의 집합\n",
        "- 컴퓨터 또는 디지털 장치에서 처리하고 저장할 수 있는 형태\n"
      ],
      "metadata": {
        "id": "BpF9NWS5iVp6"
      }
    },
    {
      "cell_type": "code",
      "source": [],
      "metadata": {
        "id": "fehJfehtjJ-D"
      },
      "execution_count": null,
      "outputs": []
    }
  ]
}