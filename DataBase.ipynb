{
  "nbformat": 4,
  "nbformat_minor": 0,
  "metadata": {
    "colab": {
      "provenance": [],
      "authorship_tag": "ABX9TyNWFL2A486klIT4DiIsJ2og",
      "include_colab_link": true
    },
    "kernelspec": {
      "name": "python3",
      "display_name": "Python 3"
    },
    "language_info": {
      "name": "python"
    }
  },
  "cells": [
    {
      "cell_type": "markdown",
      "metadata": {
        "id": "view-in-github",
        "colab_type": "text"
      },
      "source": [
        "<a href=\"https://colab.research.google.com/github/EG-world/SQL/blob/main/DataBase.ipynb\" target=\"_parent\"><img src=\"https://colab.research.google.com/assets/colab-badge.svg\" alt=\"Open In Colab\"/></a>"
      ]
    },
    {
      "cell_type": "markdown",
      "source": [
        "### 1. 데이터 (Data)\n",
        "- 데이터는 정보를 나타내는 숫자, 문자, 기호의 집합\n",
        "- 컴퓨터 또는 디지털 장치에서 처리하고 저장할 수 있는 형태\n"
      ],
      "metadata": {
        "id": "BpF9NWS5iVp6"
      }
    },
    {
      "cell_type": "markdown",
      "source": [
        "### 2. 데이터베이스 (Data Base)\n",
        "- 체계적으로 구성된 데이터의 집합이며, 특정 목적을 위해 조직화되고 관리 (저장소)\n",
        "- 정보를 효율적으로 저장, 검색, 업데이트, 관리할 수 있는 기술적인 도구와 구조를 제공\n",
        "- 데이터베이스 관리 시스템(Data Base Management System) : DB를 관리 할 수 있는 기술적인 소프트웨어\n",
        "- Oracle, mangoDB, MSSQL, MySQL, ...\n",
        "- https://db-engines.com/en/ranking  (자주 사용하는 SQL tool 순위)"
      ],
      "metadata": {
        "id": "fehJfehtjJ-D"
      }
    },
    {
      "cell_type": "code",
      "source": [],
      "metadata": {
        "id": "oL1XkR3SkYr5"
      },
      "execution_count": null,
      "outputs": []
    }
  ]
}